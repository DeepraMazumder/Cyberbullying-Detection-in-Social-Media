{
  "cells": [
    {
      "cell_type": "code",
      "execution_count": null,
      "metadata": {
        "id": "_E-JjAH0CRS2"
      },
      "outputs": [],
      "source": [
        "# Create and save the module\n",
        "module_code = \"\"\"\n",
        "from google.colab import userdata\n",
        "import google.generativeai as genai\n",
        "import re\n",
        "\n",
        "# Retrieve the API key from Colab’s secrets\n",
        "api_key = userdata.get('GOOGLE_API_KEY')\n",
        "\n",
        "# Configure the API key for Google Generative AI\n",
        "genai.configure(api_key=api_key)\n",
        "\n",
        "# Initialize the Generative Model\n",
        "model = genai.GenerativeModel(model_name=\"gemini-1.5-flash\")\n",
        "\n",
        "# Function to count words in the input text\n",
        "def count_words(text):\n",
        "    return len(text.split())\n",
        "\n",
        "# Define the prompt function\n",
        "def analyze_cyberbullying(text):\n",
        "    total_words = count_words(text)\n",
        "    prompt = (\n",
        "        \"Classify the given sentence into one of the following cyberbullying CATEGORIES: Race/Ethnicity related cyberbullying, \"\n",
        "        \"Gender/Sexual related cyberbullying, Religion related cyberbullying, or Other form of cyberbullying\\\\n\"\n",
        "        \"If the sentence is not cyberbullying, respond with 'Not Cyberbullying'\\\\n\"\n",
        "        \"SUGGESTED ALTERNATIVES: Suggest only 2 neutral/safer ways to express the sentence - no yapping\\\\n\"\n",
        "        \"HARMFUL CONTENT IDENTIFICATION: Display only the individual harmful words from the sentence as a list, \"\n",
        "        \"each marked with 🔴. Do not include phrases, explanations, or additional text\\\\n\"\n",
        "        f\"TOTAL WORDS: {total_words}\\\\n\\\\n\"\n",
        "        \"FLAGGED PERCENTAGE: Display the percentage along with the breakdown like this: 20% (2 Harmful Words / 10 Total Words)\\\\n\"\n",
        "        \"REASON:\\\\nBriefly justify why the message was flagged and its cyberbullying category - no yapping\\\\n\"\n",
        "        f\"Sentence: {text}\\\\n\"\n",
        "    )\n",
        "\n",
        "    response = model.generate_content([prompt])\n",
        "    cleaned_output = re.sub(r'\\\\*\\\\*|\\\\*|## |\"', '', response.text)\n",
        "    return cleaned_output.strip()\n",
        "\"\"\""
      ]
    },
    {
      "cell_type": "code",
      "execution_count": null,
      "metadata": {
        "colab": {
          "base_uri": "https://localhost:8080/"
        },
        "id": "ohtPXBdvCbgB",
        "outputId": "635c1de6-7ec3-42ac-cd53-7e2999414a0f"
      },
      "outputs": [
        {
          "name": "stdout",
          "output_type": "stream",
          "text": [
            "Module saved successfully in Google Drive.\n"
          ]
        }
      ],
      "source": [
        "# Save the module\n",
        "with open('../Artifacts/CyberbullyingSummarisation.py', 'w') as file:\n",
        "    file.write(module_code)\n",
        "\n",
        "print(\"Module saved successfully\")"
      ]
    }
  ],
  "metadata": {
    "colab": {
      "provenance": []
    },
    "kernelspec": {
      "display_name": "Python 3",
      "name": "python3"
    },
    "language_info": {
      "name": "python"
    }
  },
  "nbformat": 4,
  "nbformat_minor": 0
}
