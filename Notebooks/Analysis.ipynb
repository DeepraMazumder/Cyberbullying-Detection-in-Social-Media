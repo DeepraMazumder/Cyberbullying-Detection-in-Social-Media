{
  "nbformat": 4,
  "nbformat_minor": 0,
  "metadata": {
    "colab": {
      "provenance": []
    },
    "kernelspec": {
      "name": "python3",
      "display_name": "Python 3"
    },
    "language_info": {
      "name": "python"
    }
  },
  "cells": [
    {
      "cell_type": "code",
      "source": [
        "# Mount Google Drive\n",
        "from google.colab import drive\n",
        "drive.mount('/content/drive')"
      ],
      "metadata": {
        "colab": {
          "base_uri": "https://localhost:8080/"
        },
        "id": "jOP6QaNGvWo_",
        "outputId": "aec1d0a8-84c3-4c91-8a43-838cca0a6837"
      },
      "execution_count": null,
      "outputs": [
        {
          "output_type": "stream",
          "name": "stdout",
          "text": [
            "Drive already mounted at /content/drive; to attempt to forcibly remount, call drive.mount(\"/content/drive\", force_remount=True).\n"
          ]
        }
      ]
    },
    {
      "cell_type": "code",
      "source": [
        "# Add module path\n",
        "import sys\n",
        "sys.path.append('/content/drive/MyDrive/Final Year Project')"
      ],
      "metadata": {
        "id": "3n9SRvq_vWr2"
      },
      "execution_count": null,
      "outputs": []
    },
    {
      "cell_type": "code",
      "source": [
        "# Import the saved function\n",
        "from CyberbullyingSummarisation import analyze_cyberbullying"
      ],
      "metadata": {
        "id": "WCqUreqVvWuX"
      },
      "execution_count": null,
      "outputs": []
    },
    {
      "cell_type": "code",
      "source": [
        "# Get user input and analyze\n",
        "user_input = input(\"Enter a sentence to classify: \")\n",
        "result = analyze_cyberbullying(user_input)"
      ],
      "metadata": {
        "colab": {
          "base_uri": "https://localhost:8080/",
          "height": 34
        },
        "id": "VSjldIfQCopP",
        "outputId": "15c98b93-0c80-4f4e-fa2a-15805e072482"
      },
      "execution_count": null,
      "outputs": [
        {
          "name": "stdout",
          "output_type": "stream",
          "text": [
            "Enter a sentence to classify: Her husband is a nigga and her child looks like a monkey\n"
          ]
        }
      ]
    },
    {
      "cell_type": "code",
      "source": [
        "# Combine user input and result for display and saving\n",
        "final_output = f\"INPUT SENTENCE: {user_input}\\n\\n{result}\"\n",
        "\n",
        "# Print the result\n",
        "print(final_output)"
      ],
      "metadata": {
        "colab": {
          "base_uri": "https://localhost:8080/"
        },
        "id": "8RIh-J_HCor3",
        "outputId": "baaad95f-0052-4ac0-b246-27e41b175c1f"
      },
      "execution_count": null,
      "outputs": [
        {
          "output_type": "stream",
          "name": "stdout",
          "text": [
            "INPUT SENTENCE: Her husband is a nigga and her child looks like a monkey\n",
            "\n",
            "CATEGORY: Race/Ethnicity related cyberbullying\n",
            "\n",
            "SUGGESTED ALTERNATIVES:\n",
            "\n",
            "1.  Her husband's heritage is different.\n",
            "2.  Her child has unique features.\n",
            "\n",
            "\n",
            "HARMFUL CONTENT IDENTIFICATION:\n",
            "\n",
            " 🔴 nigga\n",
            " 🔴 monkey\n",
            "\n",
            "\n",
            "TOTAL WORDS: 12\n",
            "\n",
            "FLAGGED PERCENTAGE: 16.67% (2 Harmful Words / 12 Total Words)\n",
            "\n",
            "REASON:\n",
            "\n",
            "The sentence uses racial slurs (nigga and monkey) to insult and dehumanize the individuals mentioned.  This constitutes race/ethnicity related cyberbullying.\n"
          ]
        }
      ]
    },
    {
      "cell_type": "code",
      "source": [
        "# Save the summary to a file\n",
        "with open('/content/drive/MyDrive/Final Year Project/Cyberbullying Summary.txt', 'w') as f:\n",
        "    f.write(final_output)\n",
        "\n",
        "print(f\"Summary saved successfully\")"
      ],
      "metadata": {
        "colab": {
          "base_uri": "https://localhost:8080/"
        },
        "id": "CReqRF4JDBoo",
        "outputId": "d2878dbc-0038-41e3-f661-e0a9e5718871"
      },
      "execution_count": null,
      "outputs": [
        {
          "output_type": "stream",
          "name": "stdout",
          "text": [
            "Summary saved successfully\n"
          ]
        }
      ]
    }
  ]
}